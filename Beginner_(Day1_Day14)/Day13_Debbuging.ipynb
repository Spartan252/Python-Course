{
 "cells": [
  {
   "cell_type": "markdown",
   "id": "f2a8225a",
   "metadata": {},
   "source": [
    "# Debugging"
   ]
  },
  {
   "cell_type": "markdown",
   "id": "a62ebafb",
   "metadata": {},
   "source": [
    "### Table of Contents\n",
    "- [Concepts](#Concepts)\n",
    "- [Exercises](#Exercises)"
   ]
  },
  {
   "cell_type": "markdown",
   "id": "4be1d518",
   "metadata": {},
   "source": [
    "## Concepts\n",
    "\n",
    "\n",
    "### How to quickly identify and remove bugs\n",
    "\n",
    "- **Describe the Problem**\n",
    "  - Untangle the problem and make sense of what is going on (analize the code)\n",
    "\n",
    "- **Reproduce the Bug**\n",
    "  - We need to be able to reliable reproduce the bug and diagnose the problem to figure out which condintions trigger the bug\n",
    "\n",
    "- **Play Computer**\n",
    "  - Go through the code, evaluate each line as if you were the computer to help you figure out what is going wrong\n",
    "\n",
    "- **Fix the Errors**\n",
    "  - Fix the errors (red underlines) that show up in the editor before you run your code\n",
    "  - The warnings (yellow underlines) are optional fixes, sometimes will cause a problem down the line other times it's fine\n",
    "\n",
    "- **print() Statement**\n",
    "  - It can help check on the different values of the variables that the code has while it runs.\n",
    "\n",
    "- **Use a Debugger**\n",
    "  - They allow us to peek into our code during execution and pause on chosen lines to figure out what is the inner mechanism and where it's going wrong.\n",
    "\n",
    "- **Recomendations**\n",
    "  - Take a break\n",
    "  - Ask a friend\n",
    "  - Run your code often\n",
    "  - Ask StackOverflow\n",
    "\n",
    "\n",
    "\n",
    "\n",
    "**Catch errors**\n",
    "```bash\n",
    "try:\n",
    "  age = int(input(\"How old are you?\"))    #This will give a Value Error if the user enters something like \"Twelve\" instead of 12\n",
    "\n",
    "except ValueError:\n",
    "  print(\"You have typed in an invalid number. Please try again with a numerical response such as 15\")\n",
    "  age = int(input(\"How old are you?\"))\n",
    "\n",
    "if age >= 18:\n",
    "  print(f\"you can drive at age {age}\")\n",
    "```"
   ]
  },
  {
   "cell_type": "markdown",
   "id": "5f7b4565",
   "metadata": {},
   "source": [
    "## Exercises"
   ]
  },
  {
   "cell_type": "code",
   "execution_count": null,
   "id": "0787e379",
   "metadata": {},
   "outputs": [
    {
     "name": "stdout",
     "output_type": "stream",
     "text": [
      "You have typed in an invalid number. Please try again with a numerical response such as 15\n",
      "you can drive at age 23\n"
     ]
    }
   ],
   "source": [
    "try:\n",
    "  age = int(input(\"How old are you?\"))    #This will give a Value Error if the user enters something like \"Twelve\" instead of 12\n",
    "\n",
    "except ValueError:\n",
    "  print(\"You have typed in an invalid number. Please try again with a numerical response such as 15\")\n",
    "  age = int(input(\"How old are you?\"))\n",
    "\n",
    "if age >= 18:\n",
    "  print(f\"you can drive at age {age}.\")"
   ]
  }
 ],
 "metadata": {
  "kernelspec": {
   "display_name": "Python 3",
   "language": "python",
   "name": "python3"
  },
  "language_info": {
   "codemirror_mode": {
    "name": "ipython",
    "version": 3
   },
   "file_extension": ".py",
   "mimetype": "text/x-python",
   "name": "python",
   "nbconvert_exporter": "python",
   "pygments_lexer": "ipython3",
   "version": "3.11.0"
  }
 },
 "nbformat": 4,
 "nbformat_minor": 5
}
