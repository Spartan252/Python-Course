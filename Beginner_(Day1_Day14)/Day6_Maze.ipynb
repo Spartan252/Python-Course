{
 "cells": [
  {
   "cell_type": "markdown",
   "id": "f2a8225a",
   "metadata": {},
   "source": [
    "# Functions, Code Blocks and While Loops"
   ]
  },
  {
   "cell_type": "markdown",
   "id": "a62ebafb",
   "metadata": {},
   "source": [
    "### Table of Contents\n",
    "- [Concepts](#Concepts)\n",
    "- [Day Project](#Day_Project)"
   ]
  },
  {
   "cell_type": "markdown",
   "id": "4be1d518",
   "metadata": {},
   "source": [
    "## Concepts\n",
    "\n",
    "\n",
    "### Functions\n",
    "\n",
    "**def (creating function)**\n",
    "```bash\n",
    "def my_function():\n",
    "    print(\"Thanks for using my function\")\n",
    "\n",
    "\n",
    "my_function()           #Calling the function\n",
    "```\n",
    "\n",
    "### Loops\n",
    "Things that have to happen over and over again\n",
    "\n",
    "**while (true)**\n",
    "```bash\n",
    "while True:\n",
    "    print(Hi!)\n",
    "\n",
    "a = 1\n",
    "while a == 1:\n",
    "    print(a)\n",
    "```"
   ]
  },
  {
   "cell_type": "markdown",
   "id": "1a9b33e5",
   "metadata": {},
   "source": [
    "# Day_Project\n",
    "[Code necessary to pass the laberynth](https://reeborg.ca/reeborg.html?lang=en&mode=python&menu=worlds%2Fmenus%2Freeborg_intro_en.json&name=Maze&url=worlds%2Ftutorial_en%2Fmaze1.json)"
   ]
  },
  {
   "cell_type": "code",
   "execution_count": null,
   "id": "0f9e3132",
   "metadata": {},
   "outputs": [
    {
     "name": "stdout",
     "output_type": "stream",
     "text": [
      "Welcome to the PyPassword Generator!\n",
      "Your password is: 82x!DNC)v98\n"
     ]
    }
   ],
   "source": [
    "#V1\n",
    "\n",
    "def turn_right():\n",
    "    turn_left()\n",
    "    turn_left()\n",
    "    turn_left()\n",
    "\n",
    "\n",
    "while not at_goal():\n",
    "    if right_is_clear():\n",
    "        turn_right()\n",
    "    if front_is_clear():\n",
    "        move()\n",
    "    else: \n",
    "        turn_left()\n"
   ]
  },
  {
   "cell_type": "code",
   "execution_count": null,
   "id": "39ef5f39",
   "metadata": {},
   "outputs": [],
   "source": [
    "#V2\n",
    "\n",
    "def turn_right():\n",
    "    turn_left()\n",
    "    turn_left()\n",
    "    turn_left()\n",
    "\n",
    "while front_is_clear():\n",
    "    move()\n",
    "turn_left()\n",
    "\n",
    "while not at_goal():\n",
    "    if right_is_clear():\n",
    "        turn_right()\n",
    "        move()\n",
    "        \n",
    "    elif front_is_clear():\n",
    "        move()\n",
    "        \n",
    "    else: \n",
    "        turn_left()"
   ]
  }
 ],
 "metadata": {
  "kernelspec": {
   "display_name": "Python 3",
   "language": "python",
   "name": "python3"
  },
  "language_info": {
   "codemirror_mode": {
    "name": "ipython",
    "version": 3
   },
   "file_extension": ".py",
   "mimetype": "text/x-python",
   "name": "python",
   "nbconvert_exporter": "python",
   "pygments_lexer": "ipython3",
   "version": "3.11.0"
  }
 },
 "nbformat": 4,
 "nbformat_minor": 5
}
