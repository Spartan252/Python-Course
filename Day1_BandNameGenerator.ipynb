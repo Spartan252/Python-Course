{
 "cells": [
  {
   "cell_type": "markdown",
   "id": "8aee269d",
   "metadata": {},
   "source": [
    "### Table of Contents\n",
    "- [Concepts](#Concepts)\n",
    "- [Day Project](#Day_Project)\n"
   ]
  },
  {
   "cell_type": "markdown",
   "id": "4be1d518",
   "metadata": {},
   "source": [
    "### Concepts\n",
    "\n",
    "**Print**\n",
    "```bash\n",
    "print(\"I can print what you write here\")\n",
    "```"
   ]
  },
  {
   "cell_type": "markdown",
   "id": "1a9b33e5",
   "metadata": {},
   "source": [
    "# Day_Project\n",
    "Create a band name generator based on the user input of the city that they live in and their pet's name"
   ]
  },
  {
   "cell_type": "code",
   "execution_count": null,
   "id": "0f9e3132",
   "metadata": {},
   "outputs": [
    {
     "name": "stdout",
     "output_type": "stream",
     "text": [
      "Welcome to the Band Name Generator.\n",
      "Your Band Name could be papasjoe\n"
     ]
    }
   ],
   "source": [
    "print(\"Welcome to the Band Name Generator.\")\n",
    "\n",
    "city = input(\"What's the name of the city that you grew up in?\")\n",
    "\n",
    "pet = input(\"What's your pet's name?\")\n",
    "\n",
    "band_name = city + pet\n",
    "\n",
    "print(\"Your Band Name could be \" + band_name)\n"
   ]
  }
 ],
 "metadata": {
  "kernelspec": {
   "display_name": "Python 3",
   "language": "python",
   "name": "python3"
  },
  "language_info": {
   "codemirror_mode": {
    "name": "ipython",
    "version": 3
   },
   "file_extension": ".py",
   "mimetype": "text/x-python",
   "name": "python",
   "nbconvert_exporter": "python",
   "pygments_lexer": "ipython3",
   "version": "3.11.0"
  }
 },
 "nbformat": 4,
 "nbformat_minor": 5
}
