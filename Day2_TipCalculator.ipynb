{
 "cells": [
  {
   "cell_type": "markdown",
   "id": "a62ebafb",
   "metadata": {},
   "source": [
    "### Table of Contents\n",
    "- [Concepts](#Concepts)\n",
    "- [Day Project](#Day_Project)\n",
    "- [Day Project Test](#Day_Project_Test)"
   ]
  },
  {
   "cell_type": "markdown",
   "id": "4be1d518",
   "metadata": {},
   "source": [
    "## Concepts\n",
    "\n",
    "### Data Types\n",
    "\n",
    "**Subscripting**\n",
    "```bash\n",
    "print(\"Take the first element of this text\"[0])\n",
    "\n",
    "print(\"Take the last element of this text\"[-1])\n",
    "```\n",
    "\n",
    "**String**\n",
    "```bash\n",
    "print(\"123\" + \"456\")            #Concatenation\n",
    "```\n",
    "\n",
    "**Integer**\n",
    "```bash\n",
    "print(123 + 456)                #Whole numbers\n",
    "\n",
    "print(123_456 + 100_000_000)    #For large integers (easier interpretation)\n",
    "```\n",
    "\n",
    "**Float**\n",
    "```bash\n",
    "print(123.5 + 456.7)\n",
    "```\n",
    "\n",
    "**Boolean**\n",
    "```bash\n",
    "print(True)\n",
    "print(False)\n",
    "```\n",
    "\n",
    "### Mathematical Operations\n",
    "\n",
    "**Adding**\n",
    "```bash\n",
    "print(123 + 456)\n",
    "```\n",
    "\n",
    "**Substraction**\n",
    "```bash\n",
    "print(123 - 456)\n",
    "```\n",
    "\n",
    "**Multiplication**\n",
    "```bash\n",
    "print(123 * 456)\n",
    "```\n",
    "\n",
    "**Divition**\n",
    "```bash\n",
    "print(123 / 456)            #Float\n",
    "\n",
    "print(123 // 456)            #Int\n",
    "```\n",
    "\n",
    "**Exponent**\n",
    "```bash\n",
    "print(123 ** 456)\n",
    "```"
   ]
  },
  {
   "cell_type": "markdown",
   "id": "1a9b33e5",
   "metadata": {},
   "source": [
    "# Day_Project\n",
    "Create a tip calculator based on the user input of the amount of money they spent and the percentage they want to tip"
   ]
  },
  {
   "cell_type": "code",
   "execution_count": null,
   "id": "0f9e3132",
   "metadata": {},
   "outputs": [
    {
     "name": "stdout",
     "output_type": "stream",
     "text": [
      "Welcome to the Tip Calculator.\n",
      "The tip to pay is: $553.78\n",
      "The total will be: $3811.28\n",
      "Each person should pay: $1270.42\n"
     ]
    }
   ],
   "source": [
    "print(\"Welcome to the Tip Calculator.\")\n",
    "\n",
    "bill = float(input(\"What was the total bill?\\n\"))\n",
    "\n",
    "percentage = float(input(\"What's the percentage you want to tip? (only put numbers)\\n\"))\n",
    "\n",
    "people = float(input(\"How many people to split the bill?\\n\"))\n",
    "\n",
    "\n",
    "tip = bill * (percentage/100)\n",
    "\n",
    "total = bill + tip\n",
    "\n",
    "total_per_person = total / people\n",
    "\n",
    "\n",
    "print(f\"The tip to pay is: ${tip:.2f}\")\n",
    "\n",
    "print(f\"The total will be: ${total:.2f}\")\n",
    "\n",
    "print(f\"Each person should pay: ${total_per_person:.2f}\")\n",
    "\n"
   ]
  },
  {
   "cell_type": "markdown",
   "id": "29ab02a8",
   "metadata": {},
   "source": [
    "## Day_Project_Test"
   ]
  },
  {
   "cell_type": "code",
   "execution_count": 16,
   "id": "240bf8b2",
   "metadata": {},
   "outputs": [
    {
     "name": "stdout",
     "output_type": "stream",
     "text": [
      "Welcome to the Tip Calculator.\n",
      "The bill was: $3257.50\n",
      "The chosen percentage was: 17.00%\n",
      "The tip to pay is: $553.78\n",
      "The total will be: $3811.28\n",
      "Each person should pay: $1270.42\n",
      "You could have bought 681 bananas instead of paying $3811.28\n"
     ]
    }
   ],
   "source": [
    "print(\"Welcome to the Tip Calculator.\")\n",
    "\n",
    "bill = float(input(\"What was the total bill?\\n\"))\n",
    "\n",
    "percentage = float(input(\"What's the percentage you want to tip? (only put numbers)\\n\"))\n",
    "\n",
    "people = float(input(\"How many people to split the bill?\\n\"))\n",
    "\n",
    "banana = float(input(\"What is the price for a banana?\\n\"))\n",
    "\n",
    "\n",
    "tip = bill * (percentage/100)\n",
    "\n",
    "total = bill + tip\n",
    "\n",
    "total_per_person = total / people\n",
    "\n",
    "total_banana = total / banana\n",
    "\n",
    "\n",
    "print(f\"The bill was: ${bill:.2f}\")\n",
    "\n",
    "print(f\"The chosen percentage was: {percentage:.2f}%\")\n",
    "\n",
    "print(f\"The tip to pay is: ${round(tip, 2)}\")\n",
    "\n",
    "print(f\"The total will be: ${round(total, 2)}\")\n",
    "\n",
    "print(f\"Each person should pay: ${round(total_per_person, 2)}\")\n",
    "\n",
    "print(f\"You could have bought {round(total_banana)} bananas instead of paying ${round(total, 2)}\")"
   ]
  }
 ],
 "metadata": {
  "kernelspec": {
   "display_name": "Python 3",
   "language": "python",
   "name": "python3"
  },
  "language_info": {
   "codemirror_mode": {
    "name": "ipython",
    "version": 3
   },
   "file_extension": ".py",
   "mimetype": "text/x-python",
   "name": "python",
   "nbconvert_exporter": "python",
   "pygments_lexer": "ipython3",
   "version": "3.11.0"
  }
 },
 "nbformat": 4,
 "nbformat_minor": 5
}
