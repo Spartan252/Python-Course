{
 "cells": [
  {
   "cell_type": "markdown",
   "id": "f2a8225a",
   "metadata": {},
   "source": [
    "# Lists and Randomisation"
   ]
  },
  {
   "cell_type": "markdown",
   "id": "a62ebafb",
   "metadata": {},
   "source": [
    "### Table of Contents\n",
    "- [Concepts](#Concepts)\n",
    "- [Exercise](#Exercise)\n",
    "- [Day Project](#Day_Project)"
   ]
  },
  {
   "cell_type": "markdown",
   "id": "4be1d518",
   "metadata": {},
   "source": [
    "## Concepts\n",
    "\n",
    "### Randomisation\n",
    "\n",
    "**random**\n",
    "```bash\n",
    "import random\n",
    "\n",
    "random_number = random.random()                 #Random float   0 <= Number < 1\n",
    "\n",
    "random_int_number = random.randint(0,10)        #Random integer 0 <= Number <= 10\n",
    "\n",
    "random_float_number = random.uniform(0,10)      #Random float   0 <= Number <= 10\n",
    "\n",
    "random_choice_element = random.choice(list)     #Random element of a list\n",
    "\n",
    "```\n",
    "\n",
    "\n",
    "### Lists\n",
    "\n",
    "Data structure for gruped pieces of data\n",
    "\n",
    "```bash\n",
    "list = [element1, element2, element3]\n",
    "\n",
    "list.append(element4)                       #Insert at the end of the list\n",
    "\n",
    "list.insert(2, element2_5)                  #Insert at the position 2 of the list\n",
    "\n",
    "list.extend(element5, element6, element7)   #Extend the list with the given elements\n",
    "\n",
    "list.remove(element2)                       #Removes the elemento of the list whose value is equal\n",
    "\n",
    "list.pop()                                  #Removes the item at the given position and returns it, if none is given, it removes the last element\n",
    "```\n",
    "\n",
    "### Nested Lists\n",
    "```bash\n",
    "video_games = [element1, element2, element3]\n",
    "\n",
    "tabletop_games = [element4, element5, element6]\n",
    "list_games = [video_games, tabletop_games]\n",
    "\n",
    "```\n"
   ]
  },
  {
   "cell_type": "markdown",
   "id": "5f7b4565",
   "metadata": {},
   "source": [
    "## Exercises"
   ]
  },
  {
   "cell_type": "code",
   "execution_count": 17,
   "id": "0787e379",
   "metadata": {},
   "outputs": [
    {
     "name": "stdout",
     "output_type": "stream",
     "text": [
      "Heads or tails generator\n",
      "The result is Heads\n"
     ]
    }
   ],
   "source": [
    "import random\n",
    "\n",
    "print(\"Heads or tails generator\")\n",
    "\n",
    "number = random.randint(0,1)\n",
    "\n",
    "if number == 0:\n",
    "    print(f\"The result is Heads\")\n",
    "else:\n",
    "    print(f\"The result is Tails\")"
   ]
  },
  {
   "cell_type": "code",
   "execution_count": 21,
   "id": "a96a7b5f",
   "metadata": {},
   "outputs": [
    {
     "name": "stdout",
     "output_type": "stream",
     "text": [
      "Welcome to the People Randomizer\n",
      "The person that will pay the bill is: 3\n"
     ]
    }
   ],
   "source": [
    "import random\n",
    "\n",
    "print(\"Welcome to the People Randomizer\")\n",
    "\n",
    "num_people = int(input(\"How many people are participating?\\n\"))\n",
    "participants = []\n",
    "\n",
    "for i in range(num_people):\n",
    "    participants.append(input(\"Please write one name per person\\n\"))\n",
    "\n",
    "\n",
    "print(f\"The person that will pay the bill is: {random.choice(participants)}\")\n"
   ]
  },
  {
   "cell_type": "markdown",
   "id": "1a9b33e5",
   "metadata": {},
   "source": [
    "# Day_Project\n",
    "Create a game based on the user choices, using logical operations for the paths"
   ]
  },
  {
   "cell_type": "code",
   "execution_count": 26,
   "id": "0f9e3132",
   "metadata": {},
   "outputs": [
    {
     "name": "stdout",
     "output_type": "stream",
     "text": [
      "Welcome to the Rock Paper Scissors Game.\n",
      "Try to win against the computer.\n",
      "What do you choose?\n",
      "Please enter only 0, 1, or 2. Try again!\n",
      "Please enter only 0, 1, or 2. Try again!\n",
      "Please enter only 0, 1, or 2. Try again!\n",
      "Your choice:\n",
      "\n",
      "     _______\n",
      "---'    ____)____\n",
      "           ______)\n",
      "          _______)\n",
      "         _______)\n",
      "---.__________)\n",
      "\n",
      "The computer choice:\n",
      "\n",
      "    _______\n",
      "---'   ____)\n",
      "      (_____)\n",
      "      (_____)\n",
      "      (____)\n",
      "---.__(___)\n",
      "\n",
      "YOU WIN!\n",
      "Have your banana\n",
      "      _\n",
      "     //\\\n",
      "     V  \\\n",
      "      \\  \\_\n",
      "       \\,'.`-.\n",
      "        |\\ `. `.       \n",
      "        ( \\  `. `-.                        _,.-:\\\n",
      "         \\ \\   `.  `-._             __..--' ,-';/\n",
      "          \\ `.   `-.   `-..___..---'   _.--' ,'/\n",
      "           `. `-_   `._   `-`         /     ,'/'\n",
      "             \\ `-._   `-._        _.-'     ,'/ \n",
      "              `-._ `-.___ \\     /` _.-'   ,,'\n",
      "                   `-.__  `----'   _.',-'\n",
      "                       `--..____..--'\n",
      "    \n"
     ]
    }
   ],
   "source": [
    "import random\n",
    "\n",
    "\n",
    "p_rock = \"\"\"\n",
    "    _______\n",
    "---'   ____)\n",
    "      (_____)\n",
    "      (_____)\n",
    "      (____)\n",
    "---.__(___)\n",
    "\"\"\"\n",
    "\n",
    "p_paper = \"\"\"\n",
    "     _______\n",
    "---'    ____)____\n",
    "           ______)\n",
    "          _______)\n",
    "         _______)\n",
    "---.__________)\n",
    "\"\"\"\n",
    "\n",
    "p_scissors = \"\"\"\n",
    "    _______\n",
    "---'   ____)____\n",
    "          ______)\n",
    "       __________)\n",
    "      (____)\n",
    "---.__(___)\n",
    "\"\"\"\n",
    "\n",
    "game_images = [p_rock, p_paper, p_scissors]\n",
    "\n",
    "print(\"Welcome to the Rock Paper Scissors Game.\\nTry to win against the computer.\\nWhat do you choose?\")\n",
    "\n",
    "while True:\n",
    "    try:\n",
    "        player = int(input(\"Type \\\"0\\\" for Rock, \\\"1\\\" for Paper or \\\"2\\\" for Scissors\\n\"))\n",
    "        if player in [0, 1, 2]:\n",
    "            break\n",
    "        else:\n",
    "            print(\"Please enter only 0, 1, or 2. Try again!\")\n",
    "    except ValueError:\n",
    "        print(\"Please enter a valid number (0, 1, or 2). Try again!\")\n",
    "\n",
    "ran_number = random.randint(0,2)\n",
    "\n",
    "print(\"Your choice:\")\n",
    "print(game_images[player])\n",
    "\n",
    "print(\"The computer choice:\")\n",
    "print(game_images[ran_number])\n",
    "\n",
    "if player == ran_number:\n",
    "    print(\"DRAW\")\n",
    "elif (player == 0 and ran_number == 2) or (player == 1 and ran_number == 0) or (player == 2 and ran_number == 1):\n",
    "    print(\"YOU WIN!\")\n",
    "    print(r\"\"\"Have your banana\n",
    "      _\n",
    "     //\\\n",
    "     V  \\\n",
    "      \\  \\_\n",
    "       \\,'.`-.\n",
    "        |\\ `. `.       \n",
    "        ( \\  `. `-.                        _,.-:\\\n",
    "         \\ \\   `.  `-._             __..--' ,-';/\n",
    "          \\ `.   `-.   `-..___..---'   _.--' ,'/\n",
    "           `. `-_   `._   `-`         /     ,'/'\n",
    "             \\ `-._   `-._        _.-'     ,'/ \n",
    "              `-._ `-.___ \\     /` _.-'   ,,'\n",
    "                   `-.__  `----'   _.',-'\n",
    "                       `--..____..--'\n",
    "    \"\"\")\n",
    "else:\n",
    "    print(\"YOU LOSE\")\n"
   ]
  }
 ],
 "metadata": {
  "kernelspec": {
   "display_name": "Python 3",
   "language": "python",
   "name": "python3"
  },
  "language_info": {
   "codemirror_mode": {
    "name": "ipython",
    "version": 3
   },
   "file_extension": ".py",
   "mimetype": "text/x-python",
   "name": "python",
   "nbconvert_exporter": "python",
   "pygments_lexer": "ipython3",
   "version": "3.11.0"
  }
 },
 "nbformat": 4,
 "nbformat_minor": 5
}
