{
 "cells": [
  {
   "cell_type": "markdown",
   "id": "f2a8225a",
   "metadata": {},
   "source": [
    "# Loops"
   ]
  },
  {
   "cell_type": "markdown",
   "id": "a62ebafb",
   "metadata": {},
   "source": [
    "### Table of Contents\n",
    "- [Concepts](#Concepts)\n",
    "- [Exercise](#Exercise)\n",
    "- [Day Project](#Day_Project)"
   ]
  },
  {
   "cell_type": "markdown",
   "id": "4be1d518",
   "metadata": {},
   "source": [
    "## Concepts\n",
    "\n",
    "### Loops\n",
    "Things that have to happen over and over again\n",
    "\n",
    "**for (using lists)**\n",
    "```bash\n",
    "lis_of_items = [item_1, item_2, item_3, item_4]\n",
    "\n",
    "for item in lis_of_items:\n",
    "    print(item)\n",
    "```\n",
    "**for (using range)**\n",
    "```bash             \n",
    "for number in range(1, 21, 2):  #(Start, End(-1), Step)\n",
    "    print(number)\n",
    "```"
   ]
  },
  {
   "cell_type": "markdown",
   "id": "5f7b4565",
   "metadata": {},
   "source": [
    "## Exercises"
   ]
  },
  {
   "cell_type": "code",
   "execution_count": 4,
   "id": "0787e379",
   "metadata": {},
   "outputs": [
    {
     "name": "stdout",
     "output_type": "stream",
     "text": [
      "Check the sum of the scores in the list, and the highest score\n",
      "The sum of the scores is :1769\n",
      "The sum of the scores is :1769\n",
      "The highest score is :199\n",
      "The highest score is :199\n"
     ]
    }
   ],
   "source": [
    "print(\"Check the sum of the scores in the list, and the highest score\")\n",
    "\n",
    "student_scores = [150, 142, 185, 120, 171, 184, 149, 24, 59, 68, 199, 78, 65, 89, 86]\n",
    "\n",
    "print(f\"The sum of the scores is :{sum(student_scores)}\")       #using the function sum()\n",
    "\n",
    "score_sum = 0\n",
    "for score in student_scores:                                    #using the loop\n",
    "    score_sum += score\n",
    "print(f\"The sum of the scores is :{score_sum}\")\n",
    "\n",
    "\n",
    "print(f\"The highest score is :{max(student_scores)}\")           #using the function max()\n",
    "\n",
    "max_score = 0\n",
    "for score in student_scores:                                    #using the loop\n",
    "    if  score > max_score:\n",
    "        max_score = score\n",
    "print(f\"The highest score is :{max_score}\")"
   ]
  },
  {
   "cell_type": "code",
   "execution_count": 12,
   "id": "a96a7b5f",
   "metadata": {},
   "outputs": [
    {
     "name": "stdout",
     "output_type": "stream",
     "text": [
      "Welcome to the Sum Calculator!\n",
      "The sum is: 970\n"
     ]
    }
   ],
   "source": [
    "print(\"Welcome to the Sum Calculator!\")\n",
    "\n",
    "start_num = int(input(\"Enter the starting number: \"))\n",
    "\n",
    "end_num = int(input(\"Enter the ending number: \"))\n",
    "\n",
    "use_steps = input(\"Would you like to count by steps instead of every number? (y/n): \").upper()\n",
    "\n",
    "total_sum = 0\n",
    "\n",
    "if use_steps == \"Y\":\n",
    "    step_size = int(input(\"Enter the step size (how much to skip by): \"))\n",
    "    for number in range(start_num, end_num + 1, step_size):\n",
    "        total_sum += number\n",
    "    print(f\"The sum is: {total_sum}\")\n",
    "\n",
    "else:\n",
    "    for number in range(start_num, end_num + 1):\n",
    "        total_sum += number\n",
    "    print(f\"The sum is: {total_sum}\")\n"
   ]
  },
  {
   "cell_type": "code",
   "execution_count": null,
   "id": "bcd631a6",
   "metadata": {},
   "outputs": [
    {
     "name": "stdout",
     "output_type": "stream",
     "text": [
      "Welcome to the Python Pizza Deliveries!\n",
      "The total to pay will be: $24\n"
     ]
    }
   ],
   "source": [
    "#FizzBuzz\n",
    "#You are going to write a program that automatically prints the solution to the FizzBuzz game. These are the rules of the FizzBuzz game:\n",
    "\n",
    "#Your program should print each number from 1 to 100 in turn and include number 100.\n",
    "\n",
    "#But when the number is divisible by 3 then instead of printing the number it should print \"Fizz\".\n",
    "\n",
    "#When the number is divisible by 5, then instead of printing the number it should print \"Buzz\".`\n",
    "\n",
    "#And if the number is divisible by both 3 and 5 e.g. 15 then instead of the number it should print \"FizzBuzz\"\n",
    "\n",
    "\n",
    "for num in range(1,100+1):\n",
    "    if num % 5 == 0 and num % 3 == 0:\n",
    "        print(\"FizzBuzz\")\n",
    "    elif num % 3 == 0:\n",
    "        print(\"Fizz\")\n",
    "    elif num % 5 == 0:\n",
    "        print(\"Buzz\")\n",
    "    else:\n",
    "        print(num)\n"
   ]
  },
  {
   "cell_type": "markdown",
   "id": "1a9b33e5",
   "metadata": {},
   "source": [
    "# Day_Project\n",
    "Create a game based on the user choices, using logical operations for the paths"
   ]
  },
  {
   "cell_type": "code",
   "execution_count": 5,
   "id": "0f9e3132",
   "metadata": {},
   "outputs": [
    {
     "name": "stdout",
     "output_type": "stream",
     "text": [
      "Welcome to the PyPassword Generator!\n",
      "Your password is: 82x!DNC)v98\n"
     ]
    }
   ],
   "source": [
    "import random\n",
    "\n",
    "print(\"Welcome to the PyPassword Generator!\")\n",
    "\n",
    "letters = ['a', 'b', 'c', 'd', 'e', 'f', 'g', 'h', 'i', 'j', 'k', 'l', 'm', 'n', 'o', 'p', 'q', 'r', 's', 't', 'u', 'v', 'w', 'x', 'y', 'z']\n",
    "\n",
    "letters_2 = ['A', 'B', 'C', 'D', 'E', 'F', 'G', 'H', 'I', 'J', 'K', 'L', 'M', 'N', 'O', 'P', 'Q', 'R', 'S', 'T', 'U', 'V', 'W', 'X', 'Y', 'Z']\n",
    "\n",
    "all_letters = letters + letters_2\n",
    "\n",
    "symbols = ['!', '#', '$', '%', '&', '*', '(', ')', '+']\n",
    "\n",
    "numbers = ['0', '1', '2', '3', '4', '5', '6', '7', '8', '9']\n",
    "\n",
    "\n",
    "number_letters = int(input(\"How many letters would you like in your password?\\n\"))\n",
    "\n",
    "number_symbols = int(input(\"How many symbols would you like?\\n\"))\n",
    "\n",
    "number_numbers = int(input(\"How many numbers would you like?\\n\"))\n",
    "\n",
    "password = []\n",
    "\n",
    "if number_letters > 0:\n",
    "    for n in range(number_letters):\n",
    "        random_choice = random.choice(all_letters)\n",
    "        password.append(random_choice)\n",
    "\n",
    "if number_symbols > 0 :\n",
    "    for n in range(number_symbols):\n",
    "        random_choice = random.choice(symbols)\n",
    "        password.append(random_choice)\n",
    "\n",
    "if number_numbers > 0 :\n",
    "    for n in range(number_numbers):\n",
    "        random_choice = random.choice(numbers)\n",
    "        password.append(random_choice)\n",
    "\n",
    "random.shuffle(password)\n",
    "\n",
    "password_string = ''.join(password)\n",
    "\n",
    "print(f\"Your password is: {password_string}\")\n"
   ]
  }
 ],
 "metadata": {
  "kernelspec": {
   "display_name": "Python 3",
   "language": "python",
   "name": "python3"
  },
  "language_info": {
   "codemirror_mode": {
    "name": "ipython",
    "version": 3
   },
   "file_extension": ".py",
   "mimetype": "text/x-python",
   "name": "python",
   "nbconvert_exporter": "python",
   "pygments_lexer": "ipython3",
   "version": "3.11.0"
  }
 },
 "nbformat": 4,
 "nbformat_minor": 5
}
