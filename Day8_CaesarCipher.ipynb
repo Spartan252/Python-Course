{
 "cells": [
  {
   "cell_type": "markdown",
   "id": "f2a8225a",
   "metadata": {},
   "source": [
    "# Functions with inputs"
   ]
  },
  {
   "cell_type": "markdown",
   "id": "a62ebafb",
   "metadata": {},
   "source": [
    "### Table of Contents\n",
    "- [Concepts](#Concepts)\n",
    "- [Exercise](#Exercise)\n",
    "- [Day Project](#Day_Project)\n",
    "- [Day Project Test](#Day_Project_Test)"
   ]
  },
  {
   "cell_type": "markdown",
   "id": "4be1d518",
   "metadata": {},
   "source": [
    "## Concepts\n",
    "\n",
    "### Functions with Inputs\n",
    "```bash\n",
    "def my_function(name):\n",
    "    print(f\"Thanks for using my function {name}\")\n",
    "\n",
    "name = input(\"What is your name?\\n\")\n",
    "\n",
    "my_function(name)           #Calling the function\n",
    "```\n",
    "\n",
    "**Parameter and Argument**\n",
    "```bash\n",
    "something   =   123\n",
    "#Parameter      Argument\n",
    "```\n",
    "\n",
    "**Positional Arguments**\n",
    "```bash\n",
    "def my_function(a, b, c):\n",
    "    #Do this with a\n",
    "    #Then do this with b\n",
    "    #Finally do this with c\n",
    "\n",
    "my_function(1, 2, 3)\n",
    "```\n",
    "\n",
    "**Keywords Arguments**\n",
    "```bash\n",
    "def my_function(a, b, c):\n",
    "    #Do this with a\n",
    "    #Then do this with b\n",
    "    #Finally do this with c\n",
    "\n",
    "my_function(b=2, a=1, c=3)\n",
    "```\n"
   ]
  },
  {
   "cell_type": "markdown",
   "id": "5f7b4565",
   "metadata": {},
   "source": [
    "## Exercises"
   ]
  },
  {
   "cell_type": "code",
   "execution_count": null,
   "id": "0787e379",
   "metadata": {},
   "outputs": [
    {
     "name": "stdout",
     "output_type": "stream",
     "text": [
      "Greet someone\n",
      "Hello lol, welcome to this program\n"
     ]
    }
   ],
   "source": [
    "print(\"Greet someone\")\n",
    "\n",
    "def greet(name):\n",
    "    print(f\"Hello {name}, welcome to this program.\")\n",
    "\n",
    "name = input(\"Who do you want to greet?\\n\")\n",
    "greet(name)\n"
   ]
  },
  {
   "cell_type": "code",
   "execution_count": 6,
   "id": "a96a7b5f",
   "metadata": {},
   "outputs": [
    {
     "name": "stdout",
     "output_type": "stream",
     "text": [
      "You have 2444 weeks left.\n"
     ]
    }
   ],
   "source": [
    "# Life in Weeks\n",
    "# I was reading this article by Tim Urban - Your Life in Weeks and realised just how little time we actually have.\n",
    "\n",
    "# Create a function called life_in_weeks() using maths and f-Strings that tells us how many weeks we have left, if we live until 90 years old.\n",
    "\n",
    "# It will take your current age as the input and output a message with our time left in this format:\n",
    "\n",
    "# You have x weeks left.\n",
    "\n",
    "# Where x is replaced with the actual calculated number of weeks the input age has left until age 90.\n",
    "\n",
    "\n",
    "# **Warning** The function must be called life_in_weeks for the tests to pass.\n",
    "# Also the output must have the same punctuation and spelling as the example. Including the full stop!\n",
    "\n",
    "#Example Input:\n",
    "#56\n",
    "\n",
    "#Example Output:\n",
    "#You have 1768 weeks left.\n",
    "\n",
    "def life_in_weeks(current_age):\n",
    "    time_left = 90 - current_age\n",
    "    time_left_weeks = time_left * 52\n",
    "    print(f\"You have {time_left_weeks} weeks left.\")\n",
    "    \n",
    "life_in_weeks(43)\n",
    "\n"
   ]
  },
  {
   "cell_type": "code",
   "execution_count": 10,
   "id": "bcd631a6",
   "metadata": {},
   "outputs": [
    {
     "name": "stdout",
     "output_type": "stream",
     "text": [
      "Greet someone by name and location\n",
      "Hello Luis, welcome to this program.\n",
      "What is it like in Cancún?.\n"
     ]
    }
   ],
   "source": [
    "print(\"Greet someone by name and location\")\n",
    "\n",
    "def greet(name, location):\n",
    "    print(f\"Hello {name}, welcome to this program.\")\n",
    "    print(f\"What is it like in {location}?.\")\n",
    "\n",
    "name = input(\"What is yuor name?\\n\")\n",
    "location = input(\"Where are you?\\n\")\n",
    "\n",
    "greet(location = location, name = name)\n"
   ]
  },
  {
   "cell_type": "code",
   "execution_count": null,
   "id": "b8b42663",
   "metadata": {},
   "outputs": [
    {
     "name": "stdout",
     "output_type": "stream",
     "text": [
      "73\n"
     ]
    }
   ],
   "source": [
    "# Love Calculator\n",
    "\n",
    "# You are going to write a function called calculate_love_score() that tests the compatibility between two names.\n",
    "# To work out the love score between two people: \n",
    "# 1. Take both people's names and check for the number of times the letters in the word TRUE occurs.   \n",
    "# 2. Then check for the number of times the letters in the word LOVE occurs.   \n",
    "# 3. Then combine these numbers to make a 2 digit number and print it out. \n",
    "\n",
    "#Example Input \n",
    "# calculate_love_score(\"Kanye West\", \"Kim Kardashian\")\n",
    "\n",
    "#Example Output\n",
    "# 42\n",
    "\n",
    "def calculate_love_score(name_1, name_2):\n",
    "    true = 0\n",
    "    love = 0\n",
    "    for x in range(len(name_1)):\n",
    "        if name_1[x].lower() in \"true\":\n",
    "            true += 1\n",
    "        if name_1[x].lower() in \"love\":\n",
    "            love += 1\n",
    "    for x in range(len(name_2)):\n",
    "        if name_2[x].lower() in \"true\":\n",
    "            true += 1\n",
    "        if name_2[x].lower() in \"love\":\n",
    "            love += 1\n",
    "    true_love = str(true) + str(love)\n",
    "    print(true_love)\n",
    "    \n",
    "calculate_love_score(\"Brad Pitt\", \"Jennifer Aniston\")"
   ]
  },
  {
   "cell_type": "markdown",
   "id": "1a9b33e5",
   "metadata": {},
   "source": [
    "# Day_Project\n",
    "Create a program to code or decode a message"
   ]
  },
  {
   "cell_type": "code",
   "execution_count": 13,
   "id": "0f9e3132",
   "metadata": {},
   "outputs": [
    {
     "name": "stdout",
     "output_type": "stream",
     "text": [
      "\n",
      " ,adPPYba, ,adPPYYba,  ,adPPYba, ,adPPYba, ,adPPYYba, 8b,dPPYba,  \n",
      "a8\"     \"\" \"\"     'Y8 a8P_____88 I8[    \"\" \"\"     'Y8 88P'   \"Y8  \n",
      "8b         ,adPPPPP88 8PP\"\"\"\"\"\"\"  '\"Y8ba,  ,adPPPPP88 88          \n",
      "\"8a,   ,aa 88,    ,88 \"8b,   ,aa aa    ]8I 88,    ,88 88          \n",
      " '\"Ybbd8\"' '\"8bbdP\"Y8  '\"Ybbd8\"' '\"YbbdP\"' '\"8bbdP\"Y8 88   \n",
      "                                           \n",
      "           \"\"             88                                 \n",
      "                          88                                 \n",
      " ,adPPYba, 88 8b,dPPYba,  88,dPPYba,   ,adPPYba, 8b,dPPYba,  \n",
      "a8\"     \"\" 88 88P'    \"8a 88P'    \"8a a8P_____88 88P'   \"Y8  \n",
      "8b         88 88       d8 88       88 8PP\"\"\"\"\"\"\" 88          \n",
      "\"8a,   ,aa 88 88b,   ,a8\" 88       88 \"8b,   ,aa 88          \n",
      " '\"Ybbd8\"' 88 88'YbbdP\"'  88       88  '\"Ybbd8\"' 88          \n",
      "              88                                             \n",
      "              88\n",
      "Welcome to Caesar Cipher.\n",
      "Here's the encoded result: X SDCi lPCI iD RdCixcJT mNo\n",
      "Please type 'yes' or 'no'.\n",
      "Here's the decoded result: I DonT WAnt To COnTiNuE XyZ\n",
      "Goodbye!\n"
     ]
    }
   ],
   "source": [
    "print('''\n",
    " ,adPPYba, ,adPPYYba,  ,adPPYba, ,adPPYba, ,adPPYYba, 8b,dPPYba,  \n",
    "a8\"     \"\" \"\"     'Y8 a8P_____88 I8[    \"\" \"\"     'Y8 88P'   \"Y8  \n",
    "8b         ,adPPPPP88 8PP\"\"\"\"\"\"\"  '\"Y8ba,  ,adPPPPP88 88          \n",
    "\"8a,   ,aa 88,    ,88 \"8b,   ,aa aa    ]8I 88,    ,88 88          \n",
    " '\"Ybbd8\"' '\"8bbdP\"Y8  '\"Ybbd8\"' '\"YbbdP\"' '\"8bbdP\"Y8 88   \n",
    "                                           \n",
    "           \"\"             88                                 \n",
    "                          88                                 \n",
    " ,adPPYba, 88 8b,dPPYba,  88,dPPYba,   ,adPPYba, 8b,dPPYba,  \n",
    "a8\"     \"\" 88 88P'    \"8a 88P'    \"8a a8P_____88 88P'   \"Y8  \n",
    "8b         88 88       d8 88       88 8PP\"\"\"\"\"\"\" 88          \n",
    "\"8a,   ,aa 88 88b,   ,a8\" 88       88 \"8b,   ,aa 88          \n",
    " '\"Ybbd8\"' 88 88'YbbdP\"'  88       88  '\"Ybbd8\"' 88          \n",
    "              88                                             \n",
    "              88''')\n",
    "\n",
    "print(\"Welcome to Caesar Cipher.\")\n",
    "\n",
    "alphabet = ['a', 'b', 'c', 'd', 'e', 'f', 'g', 'h', 'i', 'j', 'k', 'l', 'm', 'n', 'o', 'p', 'q', 'r', 's', 't', 'u', 'v', 'w', 'x', 'y', 'z', \n",
    "            'A', 'B', 'C', 'D', 'E', 'F', 'G', 'H', 'I', 'J', 'K', 'L', 'M', 'N', 'O', 'P', 'Q', 'R', 'S', 'T', 'U', 'V', 'W', 'X', 'Y', 'Z']\n",
    "\n",
    "def encode(message, shift):\n",
    "    encoded = \"\"\n",
    "    for letter in message:\n",
    "        if letter in alphabet:\n",
    "            encoded += alphabet[(alphabet.index(letter) + shift) % len(alphabet)]\n",
    "        else:\n",
    "            encoded += letter\n",
    "    return encoded\n",
    "\n",
    "def decode(message, shift):\n",
    "    decoded = \"\"\n",
    "    for letter in message:\n",
    "        if letter in alphabet:\n",
    "            decoded += alphabet[(alphabet.index(letter) - shift) % len(alphabet)]\n",
    "        else:\n",
    "            decoded += letter\n",
    "    return decoded\n",
    "\n",
    "def caesar(message, shift, mode):\n",
    "    caesar = \"\"\n",
    "    for letter in message:\n",
    "        if letter in alphabet:\n",
    "            if mode == \"encode\":\n",
    "                caesar += alphabet[(alphabet.index(letter) + shift) % len(alphabet)]\n",
    "            else:\n",
    "                caesar += alphabet[(alphabet.index(letter) - shift) % len(alphabet)]\n",
    "        else:\n",
    "            caesar += letter\n",
    "    return caesar\n",
    "\n",
    "\n",
    "\n",
    "\n",
    "while True:\n",
    "\n",
    "    action = input(\"Type 'encode' to encrypt, type 'decode' to decrypt:\\n\").lower()\n",
    "    message = input(\"Type your message:\\n\")\n",
    "    shift = int(input(\"Type the shift number:\\n\"))\n",
    "\n",
    "    if action == \"encode\":\n",
    "        encoded = caesar(message, shift, action)\n",
    "        print(f\"Here's the encoded result: {encoded}\")\n",
    "\n",
    "    elif action == \"decode\":\n",
    "        decoded = caesar(message, shift, action)\n",
    "        print(f\"Here's the decoded result: {decoded}\")\n",
    "\n",
    "    again = input(\"Type 'yes' if you want to go again. Otherwise type 'no': \").lower()\n",
    "    if again == \"no\":\n",
    "        print(\"Goodbye!\")\n",
    "        break\n",
    "    else:\n",
    "        print(\"Please type 'yes' or 'no'.\")\n",
    "\n"
   ]
  },
  {
   "cell_type": "markdown",
   "id": "29ab02a8",
   "metadata": {},
   "source": [
    "## Day_Project_Test"
   ]
  },
  {
   "cell_type": "code",
   "execution_count": null,
   "id": "240bf8b2",
   "metadata": {},
   "outputs": [
    {
     "name": "stdout",
     "output_type": "stream",
     "text": [
      "\n",
      " ,adPPYba, ,adPPYYba,  ,adPPYba, ,adPPYba, ,adPPYYba, 8b,dPPYba,  \n",
      "a8\"     \"\" \"\"     'Y8 a8P_____88 I8[    \"\" \"\"     'Y8 88P'   \"Y8  \n",
      "8b         ,adPPPPP88 8PP\"\"\"\"\"\"\"  '\"Y8ba,  ,adPPPPP88 88          \n",
      "\"8a,   ,aa 88,    ,88 \"8b,   ,aa aa    ]8I 88,    ,88 88          \n",
      " '\"Ybbd8\"' '\"8bbdP\"Y8  '\"Ybbd8\"' '\"YbbdP\"' '\"8bbdP\"Y8 88   \n",
      "                                           \n",
      "           \"\"             88                                 \n",
      "                          88                                 \n",
      " ,adPPYba, 88 8b,dPPYba,  88,dPPYba,   ,adPPYba, 8b,dPPYba,  \n",
      "a8\"     \"\" 88 88P'    \"8a 88P'    \"8a a8P_____88 88P'   \"Y8  \n",
      "8b         88 88       d8 88       88 8PP\"\"\"\"\"\"\" 88          \n",
      "\"8a,   ,aa 88 88b,   ,a8\" 88       88 \"8b,   ,aa 88          \n",
      " '\"Ybbd8\"' 88 88'YbbdP\"'  88       88  '\"Ybbd8\"' 88          \n",
      "              88                                             \n",
      "              88\n",
      "Welcome to Caesar Cipher.\n",
      "Here's the encoded result: DDDDDDDDD\n",
      "Here's the decoded result: pepito clavo un clavito en la valva de un calvito\n",
      "Goodbye!\n"
     ]
    }
   ],
   "source": [
    "print('''\n",
    " ,adPPYba, ,adPPYYba,  ,adPPYba, ,adPPYba, ,adPPYYba, 8b,dPPYba,  \n",
    "a8\"     \"\" \"\"     'Y8 a8P_____88 I8[    \"\" \"\"     'Y8 88P'\n",
    "8b         ,adPPPPP88 8PP\"\"\"\"\"\"\"  '\"Y8ba,  ,adPPPPP88 88          \n",
    "\"8a,   ,aa 88,    ,88 \"8b,   ,aa aa    ]8I 88,    ,88 88          \n",
    " '\"Ybbd8\"' '\"8bbdP\"Y8  '\"Ybbd8\"' '\"YbbdP\"' '\"8bbdP\"Y8 88   \n",
    "                                           \n",
    "           \"\"             88                                 \n",
    "                          88                                 \n",
    " ,adPPYba, 88 8b,dPPYba,  88,dPPYba,   ,adPPYba, 8b,dPPYba,  \n",
    "a8\"     \"\" 88 88P'    \"8a 88P'    \"8a a8P_____88 88P'   \"Y8  \n",
    "8b         88 88       d8 88       88 8PP\"\"\"\"\"\"\" 88          \n",
    "\"8a,   ,aa 88 88b,   ,a8\" 88       88 \"8b,   ,aa 88          \n",
    " '\"Ybbd8\"' 88 88'YbbdP\"'  88       88  '\"Ybbd8\"' 88          \n",
    "              88                                             \n",
    "              88''')\n",
    "\n",
    "print(\"Welcome to Caesar Cipher.\")\n",
    "\n",
    "\n",
    "def encode(message, shift):                                 #ORD - ASCII VALUES - CHR - STRING VALUES\n",
    "    return ''.join(chr(ord(c) + shift) for c in message)\n",
    "\n",
    "def decode(message, shift):\n",
    "    return ''.join(chr(ord(c) - shift) for c in message)\n",
    "\n",
    "\n",
    "\n",
    "def start():\n",
    "    action = input(\"Type 'encode' to encrypt, type 'decode' to decrypt:\\n\").lower()\n",
    "    message = input(\"Type your message:\\n\")\n",
    "    shift = int(input(\"Type the shift number:\\n\"))\n",
    "\n",
    "    if action == \"encode\":\n",
    "        encoded = encode(message, shift)\n",
    "        print(f\"Here's the encoded result: {encoded}\")\n",
    "\n",
    "    elif action == \"decode\":\n",
    "        decoded = decode(message, shift)\n",
    "        print(f\"Here's the decoded result: {decoded}\")\n",
    "\n",
    "start()\n",
    "\n",
    "while True:\n",
    "    again = input(\"Type 'yes' if you want to go again. Otherwise type 'no': \").lower()\n",
    "    if again == \"yes\":\n",
    "        start()\n",
    "    elif again == \"no\":\n",
    "        print(\"Goodbye!\")\n",
    "        break\n",
    "    else:\n",
    "        print(\"Please type 'yes' or 'no'.\")"
   ]
  }
 ],
 "metadata": {
  "kernelspec": {
   "display_name": "Python 3",
   "language": "python",
   "name": "python3"
  },
  "language_info": {
   "codemirror_mode": {
    "name": "ipython",
    "version": 3
   },
   "file_extension": ".py",
   "mimetype": "text/x-python",
   "name": "python",
   "nbconvert_exporter": "python",
   "pygments_lexer": "ipython3",
   "version": "3.11.0"
  }
 },
 "nbformat": 4,
 "nbformat_minor": 5
}
