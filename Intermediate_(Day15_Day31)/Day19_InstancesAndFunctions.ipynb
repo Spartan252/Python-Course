{
 "cells": [
  {
   "cell_type": "markdown",
   "id": "f2a8225a",
   "metadata": {},
   "source": [
    "# Event Listeners, Higher Order Functions, State and Multiple Instances of an Object"
   ]
  },
  {
   "cell_type": "markdown",
   "id": "a62ebafb",
   "metadata": {},
   "source": [
    "### Table of Contents\n",
    "- [Concepts](#Concepts)\n",
    "- [Exercises](#Exercises)\n",
    "- [Day Project](#Day_Project)"
   ]
  },
  {
   "cell_type": "markdown",
   "id": "4be1d518",
   "metadata": {},
   "source": [
    "## Concepts\n",
    "\n",
    "\n",
    "### Functions as Inputs\n",
    "When we pass a function as an input, we only pass the name without the parentheses () at the end\n",
    "\n",
    "```bash\n",
    "def function_a(something):\n",
    "  #Do this with something\n",
    "  #Then do this\n",
    "  #Finally do this\n",
    "\n",
    "\n",
    "def function_b():\n",
    "  #Do this\n",
    "\n",
    "function_a(function_b)\n",
    "```\n",
    "<br>\n",
    "\n",
    "### Higher Order Functions\n",
    "A function that can work with other functions\n",
    "```bash\n",
    "def add(n1, n2):\n",
    "    return n1 + n2\n",
    "\n",
    "def multiply(n1, n2):\n",
    "    return n1 * n2\n",
    "\n",
    "#   Function as input\n",
    "def calculator(n1, n2, function):       #   Higher Order Function\n",
    "    return function(n1, n2)             #   It takes another function as an input and then working with it\n",
    "\n",
    "#   Examples\n",
    "print(calculator(2, 3, add))\n",
    "\n",
    "print(calculator(5, 7, multiply))\n",
    "```\n",
    "<br>\n",
    "\n",
    " - from...import...\n",
    "```bash\n",
    "# keyword   Module name  keyword   Thing in module\n",
    "  from      turtle       import    turtle\n",
    "\n",
    "#Obj    #Class\n",
    "timmy = Turtle() \n",
    "```\n",
    "\n",
    " - Aliasing Modules\n",
    "```bash\n",
    "# keyword   Module name  keyword   Thing in module\n",
    "  from      turtle       as        t\n",
    "\n",
    "#Obj    #Class\n",
    "timmy = t.Turtle() \n",
    "```\n",
    "\n",
    "### Installing Modules\n",
    " - When the module is not in The Python Standard Library: https://docs.python.org/3/library/index.html\n",
    "```bash\n",
    "pip install name_of_module\n",
    "\n",
    "or\n",
    "\n",
    "!pip install name_of_module\n",
    "```\n",
    "\n",
    "### Python Tuples\n",
    " - Data type where each of the items that go into the tuple are ordered (1, 3, 8), they are \"carved in stone\", cannot be modified later (change, add or delete values)\n",
    " \n",
    "```bash\n",
    "my_tuple = (1, 3, 8)\n",
    "\n",
    "# Accesing an element\n",
    "my_tuple[0]     #First element 0, 1, 2, 3, ...\n",
    "```"
   ]
  },
  {
   "cell_type": "markdown",
   "id": "5f7b4565",
   "metadata": {},
   "source": [
    "## Exercises"
   ]
  },
  {
   "cell_type": "markdown",
   "id": "8c7ff83e",
   "metadata": {},
   "source": [
    "### Turtle Event Listener:"
   ]
  },
  {
   "cell_type": "code",
   "execution_count": 1,
   "id": "0787e379",
   "metadata": {},
   "outputs": [],
   "source": [
    "import turtle\n",
    "\n",
    "#Obj    #Class\n",
    "timmy = turtle.Turtle() \n",
    "timmy.shape(\"turtle\")           #Change the shape displayed to a turtle\n",
    "timmy.color(\"chartreuse\")       #Change the color of timmy to green (chartreuse)\n",
    "\n",
    "def move_forward():\n",
    "    timmy.forward(10)\n",
    "\n",
    "\n",
    "\n",
    "my_screen = turtle.Screen()\n",
    "\n",
    "my_screen.listen()\n",
    "my_screen.onkey(fun = move_forward, key = \"space\")\n",
    "\n",
    "my_screen.exitonclick()         #Only exits once there is a click on screen"
   ]
  },
  {
   "cell_type": "markdown",
   "id": "f89011fd",
   "metadata": {},
   "source": [
    "### Calculator Function as Input (Higher Order Functions):"
   ]
  },
  {
   "cell_type": "code",
   "execution_count": null,
   "id": "37fe51e3",
   "metadata": {},
   "outputs": [
    {
     "name": "stdout",
     "output_type": "stream",
     "text": [
      "5\n",
      "35\n",
      "4.0\n",
      "9\n"
     ]
    }
   ],
   "source": [
    "def add(n1, n2):\n",
    "    return n1 + n2\n",
    "\n",
    "def subtract(n1, n2):\n",
    "    return n1 - n2\n",
    "\n",
    "def multiply(n1, n2):\n",
    "    return n1 * n2\n",
    "\n",
    "def divide(n1, n2):\n",
    "    return n1 / n2\n",
    "\n",
    "#   Function as input\n",
    "def calculator(n1, n2, function):       #   Higher Order Function\n",
    "    return function(n1, n2)             #   It takes another function as an input and then working with it\n",
    "\n",
    "#   Examples\n",
    "print(calculator(2, 3, add))\n",
    "\n",
    "print(calculator(5, 7, multiply))\n",
    "\n",
    "print(calculator(8, 2, divide))\n",
    "\n",
    "print(calculator(122, 113, subtract))\n"
   ]
  },
  {
   "cell_type": "markdown",
   "id": "1aabe7c4",
   "metadata": {},
   "source": [
    "### Etch a Sketch:"
   ]
  },
  {
   "cell_type": "code",
   "execution_count": 1,
   "id": "c5072446",
   "metadata": {},
   "outputs": [],
   "source": [
    "import turtle\n",
    "\n",
    "#Obj    #Class\n",
    "timmy = turtle.Turtle() \n",
    "timmy.shape(\"turtle\")           #Change the shape displayed to a turtle\n",
    "timmy.color(\"chartreuse\")       #Change the color of timmy to green (chartreuse)\n",
    "\n",
    "def move_forward():\n",
    "    timmy.forward(10)\n",
    "\n",
    "def move_bacwards():\n",
    "    timmy.forward(-10)\n",
    "\n",
    "def turn_right():\n",
    "    timmy.right(10)\n",
    "\n",
    "def turn_left():\n",
    "    timmy.left(10)\n",
    "\n",
    "def clear():\n",
    "    timmy.clear()\n",
    "    timmy.penup()\n",
    "    timmy.home()\n",
    "    timmy.pendown()\n",
    "\n",
    "my_screen = turtle.Screen()\n",
    "\n",
    "my_screen.listen()\n",
    "my_screen.onkey(fun = move_forward, key = \"w\")\n",
    "my_screen.onkey(fun = move_bacwards, key = \"s\")\n",
    "\n",
    "my_screen.onkey(fun = turn_right, key = \"d\")\n",
    "my_screen.onkey(fun = turn_left, key = \"a\")\n",
    "\n",
    "my_screen.onkey(fun = clear, key = \"c\")\n",
    "\n",
    "\n",
    "my_screen.exitonclick()         #Only exits once there is a click on screen\n"
   ]
  },
  {
   "cell_type": "markdown",
   "id": "1a9b33e5",
   "metadata": {},
   "source": [
    "# Day_Project\n",
    "Turtle racing game"
   ]
  },
  {
   "cell_type": "code",
   "execution_count": 1,
   "id": "74d9c7f1",
   "metadata": {},
   "outputs": [
    {
     "name": "stdout",
     "output_type": "stream",
     "text": [
      "You won, red is the winner turtle\n"
     ]
    }
   ],
   "source": [
    "import turtle\n",
    "import random\n",
    "\n",
    "\n",
    "def end_message(user_bet, winner):\n",
    "    if user_bet == winner:\n",
    "        print(f\"You won, {winner} is the winner turtle\")\n",
    "    else:\n",
    "        print(f\"You lost, {winner} is the winner turtle\")\n",
    "\n",
    "\n",
    "list_colors = [\"red\", \"orange\", \"yellow\", \"green\", \"blue\", \"purple\"]\n",
    "all_turtles = []\n",
    "\n",
    "y_position = 125\n",
    "for turtle_color in list_colors: \n",
    "    color = turtle_color\n",
    "\n",
    "    turtle_color = turtle.Turtle(shape=\"turtle\") \n",
    "    turtle_color.color(color)\n",
    "    turtle_color.penup()\n",
    "    turtle_color.goto(x= -230, y= y_position)\n",
    "    y_position -= 50\n",
    "    all_turtles.append(turtle_color)\n",
    "\n",
    "\n",
    "\n",
    "my_screen = turtle.Screen()\n",
    "my_screen.setup(width = 500, height = 400)\n",
    "\n",
    "user_bet = my_screen.textinput(title=\"Make your bet\", prompt=\"Wich turtle will win the race? Enter a color (red, orange, yellow, green, blue, purple)\")\n",
    "\n",
    "game_over = False\n",
    "while not game_over:\n",
    "    for turtle_color in all_turtles:\n",
    "        random_number = random.randint(0, 10)\n",
    "        turtle_color.forward(random_number)\n",
    "        if turtle_color.xcor() >= 230:\n",
    "            winner = turtle_color.pencolor()\n",
    "            end_message(user_bet, winner)\n",
    "            game_over = True\n",
    "            break\n",
    "\n",
    "\n",
    "my_screen.exitonclick()         #Only exits once there is a click on screen"
   ]
  }
 ],
 "metadata": {
  "kernelspec": {
   "display_name": "Python 3",
   "language": "python",
   "name": "python3"
  },
  "language_info": {
   "codemirror_mode": {
    "name": "ipython",
    "version": 3
   },
   "file_extension": ".py",
   "mimetype": "text/x-python",
   "name": "python",
   "nbconvert_exporter": "python",
   "pygments_lexer": "ipython3",
   "version": "3.11.0"
  }
 },
 "nbformat": 4,
 "nbformat_minor": 5
}
