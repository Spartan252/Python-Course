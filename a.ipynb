{
 "cells": [
  {
   "cell_type": "markdown",
   "id": "63b9b5c4",
   "metadata": {},
   "source": [
    "# TITTLE\n",
    "\n",
    "### SUBTITTLE\n",
    "\n",
    "```bash\n",
    "code = TRUE\n",
    "```\n",
    "code = TRUE\n",
    "\n",
    "**BOLD**\n",
    "\n",
    "* List\n",
    "- List\n",
    "\n",
    "\n",
    "## Table of Contents\n",
    "- [Installation](#installation)\n",
    "- [Usage](#usage)\n",
    "- [Contributing](#contributing)\n",
    "- [License](#license)\n"
   ]
  }
 ],
 "metadata": {
  "language_info": {
   "name": "python"
  }
 },
 "nbformat": 4,
 "nbformat_minor": 5
}
