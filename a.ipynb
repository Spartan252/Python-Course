{
 "cells": [
  {
   "cell_type": "markdown",
   "id": "63b9b5c4",
   "metadata": {},
   "source": [
    "# TITLE\n",
    "\n",
    "### SUBTITLE\n",
    "\n",
    "```bash\n",
    "code = TRUE\n",
    "```\n",
    "code = TRUE\n",
    "\n",
    "**BOLD**\n",
    "\n",
    "* List\n",
    "- List\n",
    "\n",
    "\n",
    "## Table of Contents\n",
    "- [Installation](#installation)\n",
    "- [Usage](#usage)\n",
    "- [Contributing](#contributing)\n",
    "- [License](#license)\n",
    "\n",
    "\n",
    "\n",
    "\n",
    "| Tema         | Nota                                   | Hecho |\n",
    "|--------------|----------------------------------------|-------|\n",
    "| Tema 1       | Repasar definición                     | ✅    |\n",
    "| Tema 2       | Ver video explicativo                  | ⏳    |\n",
    "| Tema 3       | Hacer ejercicios                       | ❌    |\n",
    "\n",
    "<br>\n",
    "\n",
    "| Key          | Value                                  |\n",
    "|--------------|----------------------------------------|\n",
    "| Bug          | An error in a program that prevents the<br>program from running as expected.      |\n",
    "| Function     | A piece of code that you can easily<br>call over and over again:              |\n",
    "| Loop         | The action of doing something<br>over and over again.                   |"
   ]
  }
 ],
 "metadata": {
  "kernelspec": {
   "display_name": "Python 3",
   "language": "python",
   "name": "python3"
  },
  "language_info": {
   "name": "python",
   "version": "3.11.0"
  }
 },
 "nbformat": 4,
 "nbformat_minor": 5
}
