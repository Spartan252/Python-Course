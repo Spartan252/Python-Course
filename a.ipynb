{
 "cells": [
  {
   "cell_type": "markdown",
   "id": "63b9b5c4",
   "metadata": {},
   "source": [
    "# TITLE\n",
    "\n",
    "### SUBTITLE\n",
    "\n",
    "```bash\n",
    "code = TRUE\n",
    "```\n",
    "code = TRUE\n",
    "\n",
    "**BOLD**\n",
    "\n",
    "* List\n",
    "- List\n",
    "\n",
    "\n",
    "## Table of Contents\n",
    "- [Installation](#installation)\n",
    "- [Usage](#usage)\n",
    "- [Contributing](#contributing)\n",
    "- [License](#license)\n"
   ]
  }
 ],
 "metadata": {
  "kernelspec": {
   "display_name": "Python 3",
   "language": "python",
   "name": "python3"
  },
  "language_info": {
   "name": "python",
   "version": "3.11.0"
  }
 },
 "nbformat": 4,
 "nbformat_minor": 5
}
